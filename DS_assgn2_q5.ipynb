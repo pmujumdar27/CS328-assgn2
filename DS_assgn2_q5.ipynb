{
  "nbformat": 4,
  "nbformat_minor": 0,
  "metadata": {
    "colab": {
      "name": "DS_assgn2_q5_final.ipynb",
      "provenance": [],
      "collapsed_sections": []
    },
    "kernelspec": {
      "name": "python3",
      "display_name": "Python 3"
    },
    "language_info": {
      "name": "python"
    },
    "widgets": {
      "application/vnd.jupyter.widget-state+json": {
        "85b03ac5cd3e48f2a83033ad04500041": {
          "model_module": "@jupyter-widgets/controls",
          "model_name": "HBoxModel",
          "state": {
            "_view_name": "HBoxView",
            "_dom_classes": [],
            "_model_name": "HBoxModel",
            "_view_module": "@jupyter-widgets/controls",
            "_model_module_version": "1.5.0",
            "_view_count": null,
            "_view_module_version": "1.5.0",
            "box_style": "",
            "layout": "IPY_MODEL_6c579f90e7c444338ae10932f90144e1",
            "_model_module": "@jupyter-widgets/controls",
            "children": [
              "IPY_MODEL_21492630a28640788590dca387adc626",
              "IPY_MODEL_bcdf9d896f1f4e81913a4ad1a36f8673"
            ]
          }
        },
        "6c579f90e7c444338ae10932f90144e1": {
          "model_module": "@jupyter-widgets/base",
          "model_name": "LayoutModel",
          "state": {
            "_view_name": "LayoutView",
            "grid_template_rows": null,
            "right": null,
            "justify_content": null,
            "_view_module": "@jupyter-widgets/base",
            "overflow": null,
            "_model_module_version": "1.2.0",
            "_view_count": null,
            "flex_flow": null,
            "width": null,
            "min_width": null,
            "border": null,
            "align_items": null,
            "bottom": null,
            "_model_module": "@jupyter-widgets/base",
            "top": null,
            "grid_column": null,
            "overflow_y": null,
            "overflow_x": null,
            "grid_auto_flow": null,
            "grid_area": null,
            "grid_template_columns": null,
            "flex": null,
            "_model_name": "LayoutModel",
            "justify_items": null,
            "grid_row": null,
            "max_height": null,
            "align_content": null,
            "visibility": null,
            "align_self": null,
            "height": null,
            "min_height": null,
            "padding": null,
            "grid_auto_rows": null,
            "grid_gap": null,
            "max_width": null,
            "order": null,
            "_view_module_version": "1.2.0",
            "grid_template_areas": null,
            "object_position": null,
            "object_fit": null,
            "grid_auto_columns": null,
            "margin": null,
            "display": null,
            "left": null
          }
        },
        "21492630a28640788590dca387adc626": {
          "model_module": "@jupyter-widgets/controls",
          "model_name": "FloatProgressModel",
          "state": {
            "_view_name": "ProgressView",
            "style": "IPY_MODEL_604421e39b6d4429a41b82b27a4556e3",
            "_dom_classes": [],
            "description": "100%",
            "_model_name": "FloatProgressModel",
            "bar_style": "success",
            "max": 100,
            "_view_module": "@jupyter-widgets/controls",
            "_model_module_version": "1.5.0",
            "value": 100,
            "_view_count": null,
            "_view_module_version": "1.5.0",
            "orientation": "horizontal",
            "min": 0,
            "description_tooltip": null,
            "_model_module": "@jupyter-widgets/controls",
            "layout": "IPY_MODEL_28e774189b6d45c4b0fdef690c498f97"
          }
        },
        "bcdf9d896f1f4e81913a4ad1a36f8673": {
          "model_module": "@jupyter-widgets/controls",
          "model_name": "HTMLModel",
          "state": {
            "_view_name": "HTMLView",
            "style": "IPY_MODEL_c7d9dca65e7e48b9ad7a90c11440543e",
            "_dom_classes": [],
            "description": "",
            "_model_name": "HTMLModel",
            "placeholder": "​",
            "_view_module": "@jupyter-widgets/controls",
            "_model_module_version": "1.5.0",
            "value": " 100/100 [03:41&lt;00:00,  2.21s/it]",
            "_view_count": null,
            "_view_module_version": "1.5.0",
            "description_tooltip": null,
            "_model_module": "@jupyter-widgets/controls",
            "layout": "IPY_MODEL_32e16f6e3f124a078037911a10de5726"
          }
        },
        "604421e39b6d4429a41b82b27a4556e3": {
          "model_module": "@jupyter-widgets/controls",
          "model_name": "ProgressStyleModel",
          "state": {
            "_view_name": "StyleView",
            "_model_name": "ProgressStyleModel",
            "description_width": "initial",
            "_view_module": "@jupyter-widgets/base",
            "_model_module_version": "1.5.0",
            "_view_count": null,
            "_view_module_version": "1.2.0",
            "bar_color": null,
            "_model_module": "@jupyter-widgets/controls"
          }
        },
        "28e774189b6d45c4b0fdef690c498f97": {
          "model_module": "@jupyter-widgets/base",
          "model_name": "LayoutModel",
          "state": {
            "_view_name": "LayoutView",
            "grid_template_rows": null,
            "right": null,
            "justify_content": null,
            "_view_module": "@jupyter-widgets/base",
            "overflow": null,
            "_model_module_version": "1.2.0",
            "_view_count": null,
            "flex_flow": null,
            "width": null,
            "min_width": null,
            "border": null,
            "align_items": null,
            "bottom": null,
            "_model_module": "@jupyter-widgets/base",
            "top": null,
            "grid_column": null,
            "overflow_y": null,
            "overflow_x": null,
            "grid_auto_flow": null,
            "grid_area": null,
            "grid_template_columns": null,
            "flex": null,
            "_model_name": "LayoutModel",
            "justify_items": null,
            "grid_row": null,
            "max_height": null,
            "align_content": null,
            "visibility": null,
            "align_self": null,
            "height": null,
            "min_height": null,
            "padding": null,
            "grid_auto_rows": null,
            "grid_gap": null,
            "max_width": null,
            "order": null,
            "_view_module_version": "1.2.0",
            "grid_template_areas": null,
            "object_position": null,
            "object_fit": null,
            "grid_auto_columns": null,
            "margin": null,
            "display": null,
            "left": null
          }
        },
        "c7d9dca65e7e48b9ad7a90c11440543e": {
          "model_module": "@jupyter-widgets/controls",
          "model_name": "DescriptionStyleModel",
          "state": {
            "_view_name": "StyleView",
            "_model_name": "DescriptionStyleModel",
            "description_width": "",
            "_view_module": "@jupyter-widgets/base",
            "_model_module_version": "1.5.0",
            "_view_count": null,
            "_view_module_version": "1.2.0",
            "_model_module": "@jupyter-widgets/controls"
          }
        },
        "32e16f6e3f124a078037911a10de5726": {
          "model_module": "@jupyter-widgets/base",
          "model_name": "LayoutModel",
          "state": {
            "_view_name": "LayoutView",
            "grid_template_rows": null,
            "right": null,
            "justify_content": null,
            "_view_module": "@jupyter-widgets/base",
            "overflow": null,
            "_model_module_version": "1.2.0",
            "_view_count": null,
            "flex_flow": null,
            "width": null,
            "min_width": null,
            "border": null,
            "align_items": null,
            "bottom": null,
            "_model_module": "@jupyter-widgets/base",
            "top": null,
            "grid_column": null,
            "overflow_y": null,
            "overflow_x": null,
            "grid_auto_flow": null,
            "grid_area": null,
            "grid_template_columns": null,
            "flex": null,
            "_model_name": "LayoutModel",
            "justify_items": null,
            "grid_row": null,
            "max_height": null,
            "align_content": null,
            "visibility": null,
            "align_self": null,
            "height": null,
            "min_height": null,
            "padding": null,
            "grid_auto_rows": null,
            "grid_gap": null,
            "max_width": null,
            "order": null,
            "_view_module_version": "1.2.0",
            "grid_template_areas": null,
            "object_position": null,
            "object_fit": null,
            "grid_auto_columns": null,
            "margin": null,
            "display": null,
            "left": null
          }
        }
      }
    }
  },
  "cells": [
    {
      "cell_type": "markdown",
      "metadata": {
        "id": "fsHvpZlgKGWe"
      },
      "source": [
        "## Imports"
      ]
    },
    {
      "cell_type": "code",
      "metadata": {
        "id": "AuIO7ne74oX_"
      },
      "source": [
        "import numpy as np\n",
        "import pandas as pd\n",
        "import matplotlib.pyplot as plt\n",
        "\n",
        "from tqdm import tqdm_notebook as tqdm\n",
        "\n",
        "from sklearn.linear_model import LinearRegression\n",
        "from sklearn.metrics import mean_squared_error"
      ],
      "execution_count": 30,
      "outputs": []
    },
    {
      "cell_type": "markdown",
      "metadata": {
        "id": "5NBM-B6DKLAq"
      },
      "source": [
        "## Loading data"
      ]
    },
    {
      "cell_type": "code",
      "metadata": {
        "colab": {
          "base_uri": "https://localhost:8080/"
        },
        "id": "fHzobwKl8nkK",
        "outputId": "d3b3624e-8612-4dc5-f75b-20eb585f925e"
      },
      "source": [
        "data_path = '/content/drive/MyDrive/ratings.csv'\n",
        "\n",
        "data = pd.read_csv(data_path).drop(columns = ['timestamp'])\n",
        "data = data.rename(columns = {'userId':0,'movieId':1,'rating':2})\n",
        "\n",
        "data = data.sample(frac = 1).reset_index(drop = True) #Shuffle the dataset\n",
        "trainlen = int(data.shape[0]*0.8)\n",
        "testlen = data.shape[0] - trainlen\n",
        "\n",
        "train = data.iloc[:trainlen]\n",
        "test = data.iloc[trainlen:].reset_index(drop = True)\n",
        "n_users = max(data[0])\n",
        "n_movies = max(data[1])\n",
        "\n",
        "print(n_users, n_movies)"
      ],
      "execution_count": 4,
      "outputs": [
        {
          "output_type": "stream",
          "text": [
            "610 193609\n"
          ],
          "name": "stdout"
        }
      ]
    },
    {
      "cell_type": "markdown",
      "metadata": {
        "id": "_QO3SnjBKOIA"
      },
      "source": [
        "## Creating Data Matrix"
      ]
    },
    {
      "cell_type": "code",
      "metadata": {
        "id": "NIXj9Roa48Qm"
      },
      "source": [
        "train_matrix = np.zeros(((n_users,n_movies)))\n",
        "\n",
        "for i in range(trainlen):\n",
        "    curr_usr = train.iloc[i,0]\n",
        "    curr_mov = train.iloc[i,1]\n",
        "    curr_rat = train.iloc[i,2]\n",
        "    train_matrix[curr_usr-1][curr_mov-1] = curr_rat"
      ],
      "execution_count": 11,
      "outputs": []
    },
    {
      "cell_type": "code",
      "metadata": {
        "colab": {
          "base_uri": "https://localhost:8080/"
        },
        "id": "YDSfUGNC9GN0",
        "outputId": "59397f21-98e3-49a2-9123-9a1051a1e1d9"
      },
      "source": [
        "train_matrix"
      ],
      "execution_count": 14,
      "outputs": [
        {
          "output_type": "execute_result",
          "data": {
            "text/plain": [
              "array([[4. , 0. , 0. , ..., 0. , 0. , 0. ],\n",
              "       [0. , 0. , 0. , ..., 0. , 0. , 0. ],\n",
              "       [0. , 0. , 0. , ..., 0. , 0. , 0. ],\n",
              "       ...,\n",
              "       [2.5, 0. , 2. , ..., 0. , 0. , 0. ],\n",
              "       [3. , 0. , 0. , ..., 0. , 0. , 0. ],\n",
              "       [5. , 0. , 0. , ..., 0. , 0. , 0. ]])"
            ]
          },
          "metadata": {
            "tags": []
          },
          "execution_count": 14
        }
      ]
    },
    {
      "cell_type": "markdown",
      "metadata": {
        "id": "-YwA29YEKS0h"
      },
      "source": [
        "## SVD calculation and defining rank-k approximation function"
      ]
    },
    {
      "cell_type": "code",
      "metadata": {
        "id": "whQo6Rcm9CiP"
      },
      "source": [
        "u,s,v_t = np.linalg.svd(train_matrix,full_matrices = False)\n",
        "\n",
        "def k_rank_approx(k,matrix): \n",
        "    if k >= len(s):\n",
        "        return matrix\n",
        "    else:\n",
        "        u_tmp = u[:,:k]\n",
        "        s_tmp = np.diag(s[:k])\n",
        "        v_tmp = v_t[:k,:]\n",
        "        c = np.matmul(u_tmp,np.matmul(s_tmp,v_tmp))\n",
        "    return c"
      ],
      "execution_count": 17,
      "outputs": []
    },
    {
      "cell_type": "markdown",
      "metadata": {
        "id": "yPaIXd46KZDE"
      },
      "source": [
        "## Calculating errors in rank-k approximation for different k"
      ]
    },
    {
      "cell_type": "code",
      "metadata": {
        "colab": {
          "base_uri": "https://localhost:8080/",
          "height": 117,
          "referenced_widgets": [
            "85b03ac5cd3e48f2a83033ad04500041",
            "6c579f90e7c444338ae10932f90144e1",
            "21492630a28640788590dca387adc626",
            "bcdf9d896f1f4e81913a4ad1a36f8673",
            "604421e39b6d4429a41b82b27a4556e3",
            "28e774189b6d45c4b0fdef690c498f97",
            "c7d9dca65e7e48b9ad7a90c11440543e",
            "32e16f6e3f124a078037911a10de5726"
          ]
        },
        "id": "xZ942lat9dKa",
        "outputId": "362b7aa0-ef9d-4871-debd-196296dc2dd1"
      },
      "source": [
        "errs = []\n",
        "for k in tqdm(range(1,101)):\n",
        "    approx = k_rank_approx(k,train_matrix)\n",
        "    e = 0\n",
        "    for i in range(testlen):\n",
        "        rat_curr = test.iloc[i,2]\n",
        "        usr_curr = test.iloc[i,0]\n",
        "        mov_curr = test.iloc[i,1]\n",
        "        e += (rat_curr-approx[usr_curr-1][mov_curr-1])**2\n",
        "    errs.append(e)\n"
      ],
      "execution_count": 18,
      "outputs": [
        {
          "output_type": "stream",
          "text": [
            "/usr/local/lib/python3.7/dist-packages/ipykernel_launcher.py:2: TqdmDeprecationWarning: This function will be removed in tqdm==5.0.0\n",
            "Please use `tqdm.notebook.tqdm` instead of `tqdm.tqdm_notebook`\n",
            "  \n"
          ],
          "name": "stderr"
        },
        {
          "output_type": "display_data",
          "data": {
            "application/vnd.jupyter.widget-view+json": {
              "model_id": "85b03ac5cd3e48f2a83033ad04500041",
              "version_minor": 0,
              "version_major": 2
            },
            "text/plain": [
              "HBox(children=(FloatProgress(value=0.0), HTML(value='')))"
            ]
          },
          "metadata": {
            "tags": []
          }
        },
        {
          "output_type": "stream",
          "text": [
            "\n"
          ],
          "name": "stdout"
        }
      ]
    },
    {
      "cell_type": "code",
      "metadata": {
        "colab": {
          "base_uri": "https://localhost:8080/",
          "height": 266
        },
        "id": "TB2YBO1j_HGv",
        "outputId": "be15a7b7-1bff-40e2-ac51-a3c40eb2cb10"
      },
      "source": [
        "plt.plot(errs)\n",
        "plt.show()"
      ],
      "execution_count": 19,
      "outputs": [
        {
          "output_type": "display_data",
          "data": {
            "image/png": "[encoded data removed]",
            "text/plain": [
              "<Figure size 432x288 with 1 Axes>"
            ]
          },
          "metadata": {
            "tags": [],
            "needs_background": "light"
          }
        }
      ]
    },
    {
      "cell_type": "markdown",
      "metadata": {
        "id": "LGT9H2JhKfXP"
      },
      "source": [
        "## Generating data for baseline algorithm"
      ]
    },
    {
      "cell_type": "code",
      "metadata": {
        "id": "JxqIAyvw-QGG"
      },
      "source": [
        "user_ratings = {}\n",
        "movie_ratings = {}\n",
        "\n",
        "for i in range(train.shape[0]):\n",
        "    usr_curr = train.iloc[i,0]\n",
        "    mov_curr = train.iloc[i,1]\n",
        "    rat_curr = train.iloc[i,2]\n",
        "    if usr_curr in user_ratings:\n",
        "        user_ratings[usr_curr][0] += rat_curr\n",
        "        user_ratings[usr_curr][1] += 1\n",
        "    else:\n",
        "        user_ratings[usr_curr] = [rat_curr,1]\n",
        "\n",
        "    if mov_curr in movie_ratings:\n",
        "        movie_ratings[mov_curr][0] += rat_curr\n",
        "        movie_ratings[mov_curr][1] += 1\n",
        "    else:\n",
        "        movie_ratings[mov_curr] = [rat_curr,1]\n"
      ],
      "execution_count": 26,
      "outputs": []
    },
    {
      "cell_type": "code",
      "metadata": {
        "id": "3z7R1MIFDj3s"
      },
      "source": [
        "user_averages = {}\n",
        "movie_averages = {}\n",
        "\n",
        "for i in user_ratings:\n",
        "    user_averages[i] = user_ratings[i][0]/user_ratings[i][1]\n",
        "\n",
        "for i in movie_ratings:\n",
        "    movie_averages[i] = movie_ratings[i][0]/movie_ratings[i][1]"
      ],
      "execution_count": null,
      "outputs": []
    },
    {
      "cell_type": "code",
      "metadata": {
        "id": "4MYRhukiD-yo"
      },
      "source": [
        "baseline_train = []\n",
        "for i in range(train.shape[0]):\n",
        "    usr_curr = train.iloc[i,0]\n",
        "    mov_curr = train.iloc[i,1]\n",
        "    rat_curr = train.iloc[i,2]\n",
        "    baseline_train.append([user_averages[usr_curr], movie_averages[mov_curr], rat_curr])\n",
        "\n",
        "x_test=[]\n",
        "y_test=[]\n",
        "\n",
        "for i in range(test.shape[0]):\n",
        "    usr_avg = 0\n",
        "    mov_avg = 0\n",
        "    usr_curr = test.iloc[i,0]\n",
        "    mov_curr = test.iloc[i,1]\n",
        "    rat_curr = test.iloc[i,2]\n",
        "\n",
        "    if usr_curr in user_averages:\n",
        "        usr_avg = user_averages[usr_curr]\n",
        "\n",
        "    if mov_curr in movie_averages:\n",
        "        mov_avg = movie_averages[mov_curr]\n",
        "\n",
        "    x_test.append([usr_avg, mov_avg])\n",
        "    y_test.append(rat_curr)\n",
        "\n",
        "baseline_train = np.array(baseline_train)\n",
        "x_test = np.array(x_test)\n",
        "y_test = np.array(y_test)"
      ],
      "execution_count": null,
      "outputs": []
    },
    {
      "cell_type": "markdown",
      "metadata": {
        "id": "tmzk4-2iKmgR"
      },
      "source": [
        "## Training Baseline algorithm, fit using Linear Regression"
      ]
    },
    {
      "cell_type": "code",
      "metadata": {
        "colab": {
          "base_uri": "https://localhost:8080/",
          "height": 626
        },
        "id": "vfBQck0MI0Hz",
        "outputId": "6c11fdee-0b43-4279-ce90-b4aaa86235cf"
      },
      "source": [
        "model = LinearRegression(fit_intercept=False)\n",
        "model.fit(baseline_train[:,:2],baseline_train[:,2])\n",
        "predicted = model.predict(x_test)\n",
        "error_baseline = mean_squared_error(predicted,y_test)*len(y_test)\n",
        "\n",
        "k_values = np.arange(1,101)\n",
        "plt.style.use('ggplot')\n",
        "plt.figure(figsize=(15,10))\n",
        "plt.plot(k_values, [error_baseline for i in range(100)], label='Baseline')\n",
        "plt.plot(k_values, [errs[i] for i in range(100)], label='Rank-k Approximation')\n",
        "plt.title('Error vs K plot')\n",
        "plt.xlabel('K')\n",
        "plt.ylabel('Error')\n",
        "plt.legend()\n",
        "plt.show()"
      ],
      "execution_count": 34,
      "outputs": [
        {
          "output_type": "display_data",
          "data": {
            "image/png": "[encoded data removed]",
            "text/plain": [
              "<Figure size 1080x720 with 1 Axes>"
            ]
          },
          "metadata": {
            "tags": []
          }
        }
      ]
    },
    {
      "cell_type": "code",
      "metadata": {
        "id": "TKx4EXCZFwij"
      },
      "source": [
        ""
      ],
      "execution_count": null,
      "outputs": []
    }
  ]
}